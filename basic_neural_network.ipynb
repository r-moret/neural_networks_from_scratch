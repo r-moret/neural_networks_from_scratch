{
  "nbformat": 4,
  "nbformat_minor": 0,
  "metadata": {
    "colab": {
      "name": "basic_neural_network.ipynb",
      "provenance": [],
      "collapsed_sections": [],
      "authorship_tag": "ABX9TyOkbh+RbZqTCYxiKGDDT2S7",
      "include_colab_link": true
    },
    "kernelspec": {
      "name": "python3",
      "display_name": "Python 3"
    },
    "language_info": {
      "name": "python"
    },
    "accelerator": "GPU"
  },
  "cells": [
    {
      "cell_type": "markdown",
      "metadata": {
        "id": "view-in-github",
        "colab_type": "text"
      },
      "source": [
        "<a href=\"https://colab.research.google.com/github/r-moret/neural_networks_from_scratch/blob/main/basic_neural_network.ipynb\" target=\"_parent\"><img src=\"https://colab.research.google.com/assets/colab-badge.svg\" alt=\"Open In Colab\"/></a>"
      ]
    },
    {
      "cell_type": "code",
      "metadata": {
        "id": "uKlskCy4CAWn"
      },
      "source": [
        "import numpy as np"
      ],
      "execution_count": null,
      "outputs": []
    },
    {
      "cell_type": "code",
      "metadata": {
        "id": "AwAjl9v1km_f"
      },
      "source": [
        "def initialize_nn(architecture, mode=None):\n",
        "    num_layers = len(architecture)-1\n",
        "    parameters = dict()\n",
        "\n",
        "    for l in range(num_layers):\n",
        "\n",
        "        if mode == \"Xavier\":\n",
        "            init_constant = np.sqrt(1/architecture[l])\n",
        "        elif mode == \"He\":\n",
        "            init_constant = np.sqrt(2/architecture[l])\n",
        "        else:\n",
        "            init_constant = 1\n",
        "\n",
        "        parameters[\"W\" + str(l+1)] = np.random.rand(architecture[l+1], architecture[l]) * init_constant\n",
        "        parameters[\"b\" + str(l+1)] = np.zeros((architecture[l+1], 1))\n",
        "\n",
        "    return parameters"
      ],
      "execution_count": null,
      "outputs": []
    },
    {
      "cell_type": "code",
      "metadata": {
        "id": "vayNBdxJCBFd"
      },
      "source": [
        "def forward_propagation(parameters, input, activations):\n",
        "    num_layers = len(parameters)//2\n",
        "    Z = dict()\n",
        "    A = dict()\n",
        "\n",
        "    A[\"A\" + str(0)] = np.reshape(input, (len(input),1))\n",
        "    for l in range(num_layers):\n",
        "\n",
        "        if activations[l] == \"ReLU\":\n",
        "            activation = lambda x : np.maximum(0,x)\n",
        "        elif activations[l] == \"Sigmoid\":\n",
        "            activation = lambda x : 1/(1+np.exp(-x))\n",
        "        elif activations[l] == \"Tanh\":\n",
        "            activation = lambda x : (np.exp(x) - np.exp(-x))/(np.exp(x) + np.exp(-x))\n",
        "        elif activations[l] == \"Linear\":\n",
        "            activation = lambda x : x\n",
        "\n",
        "        Z[\"Z\" + str(l+1)] = np.add(np.matmul(parameters[\"W\" + str(l+1)], A[\"A\" + str(l)]), parameters[\"b\" + str(l+1)])\n",
        "        A[\"A\" + str(l+1)] = activation(Z[\"Z\" + str(l+1)])\n",
        "    \n",
        "    return A[\"A\" + str(num_layers)]"
      ],
      "execution_count": null,
      "outputs": []
    },
    {
      "cell_type": "code",
      "metadata": {
        "id": "fPNKSLManapY"
      },
      "source": [
        "network = [2,3,1]\n",
        "activations = [\"ReLU\", \"Tanh\"]\n",
        "input = [1,5]\n",
        "\n",
        "parameters = initialize_nn(network)\n",
        "output = forward_propagation(parameters, input, activations)\n",
        "\n",
        "for p in parameters:\n",
        "    print(p + \":\\n\" + str(parameters[p]))\n",
        "\n",
        "print(\"Output: \" + str(output))"
      ],
      "execution_count": null,
      "outputs": []
    }
  ]
}